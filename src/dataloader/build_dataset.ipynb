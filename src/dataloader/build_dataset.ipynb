{
 "cells": [
  {
   "cell_type": "code",
   "execution_count": null,
   "metadata": {
    "collapsed": true
   },
   "outputs": [],
   "source": [
    "import sys\n",
    "sys.path.extend(['../../'])\n",
    "\n",
    "import os\n",
    "import time\n",
    "from src.utils.io import *\n",
    "from src.utils.recon import *"
   ]
  },
  {
   "cell_type": "code",
   "execution_count": null,
   "outputs": [],
   "source": [
    "old_root = '../../data/raw/ChallengeData/SingleCoil/Cine/TrainingSet/FullSample'\n",
    "new_root = '../../data/transformed/SingleCoil/Cine/TrainingSet'\n",
    "old_postfix = '.mat'\n",
    "new_postfix = '.h5'\n",
    "old_label = 'kspace_single_full'\n",
    "new_label = 'kspace'\n",
    "data_files = ['cine_lax', 'cine_sax']\n",
    "\n",
    "if not os.path.exists(new_root):\n",
    "    os.makedirs(new_root)\n",
    "\n",
    "for subject in os.listdir(old_root):\n",
    "    if os.path.isdir(os.path.join(old_root, subject)):\n",
    "        print(f'Start processing subject {subject} ...')\n",
    "        start_time = time.perf_counter()\n",
    "        for data_file in data_files:\n",
    "            old_filename = os.path.join(old_root, subject, data_file + old_postfix)\n",
    "            new_filename = os.path.join(new_root, subject + '_' + data_file + new_postfix)\n",
    "            if os.path.exists(old_filename):\n",
    "                kspace = h5read(old_filename, old_label)\n",
    "                kspace = kspace['real'] + 1j * kspace['imag']\n",
    "                h5write(new_filename, new_label, kspace)\n",
    "        print(f'Finish processing subject {subject}: {time.perf_counter() - start_time: .3f} seconds.')"
   ],
   "metadata": {
    "collapsed": false
   }
  },
  {
   "cell_type": "code",
   "execution_count": null,
   "outputs": [],
   "source": [
    "old_root = '../../data/raw/ChallengeData/MultiCoil/Cine/TrainingSet/FullSample'\n",
    "new_root = '../../data/transformed/MultiCoil/Cine/TrainingSet'\n",
    "old_postfix = '.mat'\n",
    "new_postfix = '.h5'\n",
    "old_label = 'kspace_full'\n",
    "new_label = 'kspace'\n",
    "data_files = ['cine_lax', 'cine_sax']\n",
    "\n",
    "if not os.path.exists(new_root):\n",
    "    os.makedirs(new_root)\n",
    "\n",
    "for subject in os.listdir(old_root):\n",
    "    if os.path.isdir(os.path.join(old_root, subject)):\n",
    "        print('Start processing subject ' + subject + '...')\n",
    "        start_time = time.perf_counter()\n",
    "        for data_file in data_files:\n",
    "            old_filename = os.path.join(old_root, subject, data_file + old_postfix)\n",
    "            new_filename = os.path.join(new_root, subject + '_' + data_file + new_postfix)\n",
    "            if os.path.exists(old_filename):\n",
    "                kspace = h5read(old_filename, old_label)\n",
    "                kspace = kspace['real'] + 1j * kspace['imag']\n",
    "                avg_kspace = np.average(kspace, axis=0)\n",
    "                num_slices = avg_kspace.shape[0]\n",
    "                sens = np.zeros_like(avg_kspace)\n",
    "                for i in range(num_slices):\n",
    "                    sens[i] = espirit_map(avg_kspace[i])\n",
    "                h5write(new_filename, new_label, kspace)\n",
    "                h5write(new_filename, 'sens', sens)\n",
    "        print('Finish processing subject ' + subject + ': ' + str(time.perf_counter() - start_time))"
   ],
   "metadata": {
    "collapsed": false
   }
  }
 ],
 "metadata": {
  "kernelspec": {
   "display_name": "Python 3",
   "language": "python",
   "name": "python3"
  },
  "language_info": {
   "codemirror_mode": {
    "name": "ipython",
    "version": 2
   },
   "file_extension": ".py",
   "mimetype": "text/x-python",
   "name": "python",
   "nbconvert_exporter": "python",
   "pygments_lexer": "ipython2",
   "version": "2.7.6"
  }
 },
 "nbformat": 4,
 "nbformat_minor": 0
}
